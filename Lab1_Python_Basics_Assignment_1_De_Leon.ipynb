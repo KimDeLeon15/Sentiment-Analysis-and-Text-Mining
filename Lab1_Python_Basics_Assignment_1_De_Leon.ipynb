{
  "nbformat": 4,
  "nbformat_minor": 0,
  "metadata": {
    "colab": {
      "provenance": []
    },
    "kernelspec": {
      "name": "python3",
      "display_name": "Python 3"
    },
    "language_info": {
      "name": "python"
    }
  },
  "cells": [
    {
      "cell_type": "code",
      "execution_count": null,
      "metadata": {
        "id": "sZSy54d28Py0",
        "colab": {
          "base_uri": "https://localhost:8080/"
        },
        "outputId": "247da626-99e7-4220-9640-41253bbd5d43"
      },
      "outputs": [
        {
          "output_type": "stream",
          "name": "stdout",
          "text": [
            "Fuel needed:41.30434782608695liters\n"
          ]
        }
      ],
      "source": [
        "'''Python Basics: Assignment 1 - Understanding the Fundamentals\n",
        "Section 1: Numerical Data Types & Arithmetic Operators\n",
        "Question 1: The Road Trip Planner\n",
        "Imagine you are planning a road trip. You need to calculate some key details using Python.\n",
        "●\tYour car's fuel efficiency is 11.5 kilometers per liter.\n",
        "●\tThe total distance of the trip is 475 kilometers.\n",
        "●\tThe price of fuel is $1.65 per liter.\n",
        "●\tYour car's fuel tank capacity is 50 liters. You start with a full tank.\n",
        "Write Python expressions to calculate the following. For each part, show the expression and the result, and briefly explain your calculation.\n",
        "'''\n",
        "# A.How many Fuels will you need for the entire trip?\n",
        "\n",
        "fuel_efficiency=11.5#kilometers per Liter\n",
        "total_distance=475#kilometers\n",
        "fuel_needed=total_distance/fuel_efficiency\n",
        "print(f\"Fuel needed:{fuel_needed}liters\")\n"
      ]
    },
    {
      "cell_type": "markdown",
      "source": [
        "The code calculates the total fuel needed by dividing the total_distance (475 km) by the car's fuel_efficiency\n",
        "(11.5 km/liter)."
      ],
      "metadata": {
        "id": "lIRtEnuX35Ih"
      }
    },
    {
      "cell_type": "code",
      "source": [
        "# B.How many full tanks of fuel does this represent? (Use an operator that gives you the whole number of tanks)\n",
        "fuel_tank_capacity = 50 # liiters\n",
        "full_tanks_needed = total_distance // fuel_efficiency // fuel_tank_capacity\n",
        "print (f\"Full tanks needed: {full_tanks_needed}\")"
      ],
      "metadata": {
        "colab": {
          "base_uri": "https://localhost:8080/"
        },
        "id": "WcgDgdSk36JK",
        "outputId": "97c4e4b6-881e-484b-92e5-58181e7f7700"
      },
      "execution_count": null,
      "outputs": [
        {
          "output_type": "stream",
          "name": "stdout",
          "text": [
            "Full tanks needed: 0.0\n"
          ]
        }
      ]
    },
    {
      "cell_type": "markdown",
      "source": [
        "First, I calculate the total fuel needed by dividing total_distance by fuel_efficiency. Then, i use the floor division operator (\"//\") to fund the number of full tanks required.\n",
        "Divide the fuel_needed by the fuel_tank_capacity (50 liters) and discarding the remainder to acquire the whole number of tank."
      ],
      "metadata": {
        "id": "IxaU3or84tBJ"
      }
    },
    {
      "cell_type": "code",
      "source": [
        "# C. What is the total estimated fuel cost for the trip (based on the fuel needed)?\n",
        "fuel_price_per_liter = 1.65 # $ per liter\n",
        "total_fuel_cost = fuel_needed * fuel_price_per_liter\n",
        "print(f\"Total fuel cost: ${total_fuel_cost}\")\n"
      ],
      "metadata": {
        "colab": {
          "base_uri": "https://localhost:8080/"
        },
        "id": "LNGr3G_25X2Y",
        "outputId": "b3ef9ed6-3dcf-4486-ad84-7b28f0e08ce0"
      },
      "execution_count": null,
      "outputs": [
        {
          "output_type": "stream",
          "name": "stdout",
          "text": [
            "Total fuel cost: $68.15217391304347\n"
          ]
        }
      ]
    },
    {
      "cell_type": "markdown",
      "source": [
        "Calculated the total_fuel_cost by multiplying the fuel_needed (result of A) by the fuel_price_per_liter ($1.65). Formatted as a dollar using the f-string.\n"
      ],
      "metadata": {
        "id": "WlGEj6G6566_"
      }
    },
    {
      "cell_type": "code",
      "source": [
        "# D.After completing the trip, how many liters will be remaining in you tank if you started full and only refueled the exact amount neede?(Hint: Think about the fuel used from the last full tank)\n",
        "fuel_tank_capacity = 50  # liters\n",
        "fuel_needed = 41.30434782608695 # liters (from previous calculation)\n",
        "remaining_fuel = fuel_tank_capacity - fuel_needed\n",
        "print(f\"Remaining fuel: {remaining_fuel} liters\")"
      ],
      "metadata": {
        "colab": {
          "base_uri": "https://localhost:8080/"
        },
        "id": "sjfTLnMl6ZIf",
        "outputId": "e2d2f25a-1c2e-468f-f9ab-855d49366dc4"
      },
      "execution_count": 11,
      "outputs": [
        {
          "output_type": "stream",
          "name": "stdout",
          "text": [
            "Remaining fuel: 8.695652173913047 liters\n"
          ]
        }
      ]
    },
    {
      "cell_type": "markdown",
      "source": [
        "We started with a full tank of 50 liters. The trip required 41.30434782608695 liters of fuel. By subtracting the fuel consumed from the initial amount of fuel in the tank, we find that there are 8.695652173913045 liters of fuel remaining in the tank after completing the trip."
      ],
      "metadata": {
        "id": "0fvelUEg7Dym"
      }
    },
    {
      "cell_type": "code",
      "source": [
        "''' Section 2: Comparison & Logical Operators\n",
        "Question 2: Theme Park Entry Rules\n",
        "A theme park has a special discount rule. A person gets a discount if they meet ONE of the following criteria:\n",
        "●\tThey are a child (age 12 or younger) AND it is a weekday.\n",
        "●\tThey are a senior (age 65 or older) REGARDLESS of the day.\n",
        "●\tIt is a special \"Family Day\" AND they are part of a group of 4 or more.\n",
        "'''\n",
        "\n",
        "# a. Write a single, comprehensive Python boolean expression that evaluates to True if a person with the current variable values qualifies for a discount, and False otherwise. Show the expression and its result.\n",
        "age = 30\n",
        "is_weekday = True\n",
        "is_family_day = False\n",
        "group_size = 3\n",
        "\n",
        "discount_eligible = ((age <= 12) and is_weekday) or \\\n",
        "                    (age >=65) or \\\n",
        "                    (is_family_day and group_size >=4)\n",
        "print(f\"Discount eligible: {discount_eligible}\")"
      ],
      "metadata": {
        "colab": {
          "base_uri": "https://localhost:8080/"
        },
        "id": "I8etNpgp7ngm",
        "outputId": "e8418c3e-3680-4189-8302-30c7bdfe828e"
      },
      "execution_count": null,
      "outputs": [
        {
          "output_type": "stream",
          "name": "stdout",
          "text": [
            "Discount eligible: False\n"
          ]
        }
      ]
    },
    {
      "cell_type": "markdown",
      "source": [
        "Boolean expression used to evaluate checks the conditions using *and* and *or* operators:\n",
        "(age_<= 12) and is_weekday  = checks if the person is 12 years or younger and falls on a weekday.\n",
        "\n",
        "( age>=65) checks if the person is 65 or older\n",
        "(is_family_day) and (group_size >=4) checks if the family day and group size is 4 or more\n",
        "\n",
        "The operator *or* combines the conditions, if any one of the conditions is true then the it will evaluate to *True*"
      ],
      "metadata": {
        "id": "7KMB-kaI8oeb"
      }
    },
    {
      "cell_type": "code",
      "source": [
        "# B. Now, change the varibles to:\n",
        "age = 10\n",
        "is_weekday = True\n",
        "is_family_day = False\n",
        "group_size = 2\n",
        "# Evaluate your boolean expression from part (a) with these new values.\n",
        "discount_eligible = ((age <= 12) and is_weekday) or \\\n",
        "                    (age >= 65) or \\\n",
        "                    (is_family_day and group_size >= 4)\n",
        "print(f\"Discount eligible: {discount_eligible}\")"
      ],
      "metadata": {
        "colab": {
          "base_uri": "https://localhost:8080/"
        },
        "id": "MEEiyaBn9jji",
        "outputId": "937a685f-1199-4213-cd7d-1ffff979bf27"
      },
      "execution_count": null,
      "outputs": [
        {
          "output_type": "stream",
          "name": "stdout",
          "text": [
            "Discount eligible: True\n"
          ]
        }
      ]
    },
    {
      "cell_type": "code",
      "source": [
        "# C. For the scenario in part (b), explain step-by-step how Python evaluates your boolean expression. Describe the result of each comparison and how the and/or operators combine these results to reach the final answer.\n",
        "*  age <= 12: 10 <= 12 is True.  *\n",
        "*  is_weekday: True.  *\n",
        "*  (age <= 12) and is_weekday: True and True is True.\n",
        "*  age >= 65: 10 >= 65 is False.\n",
        "*  is_family_day: False.\n",
        "*  group_size >= 4: 2 >= 4 is False.\n",
        "*  (is_family_day and group_size >= 4): False and False is False.\n",
        "*  True or False or False: The first True makes the entire or expression True.\n",
        "*  Therefore, the final result is True."
      ],
      "metadata": {
        "id": "Up6XOl6-Bvks"
      },
      "execution_count": null,
      "outputs": []
    },
    {
      "cell_type": "code",
      "source": [
        "''' Section 3: String Data Types, Indexing & Slicing (25 Marks)\n",
        "#Question 3: Message Decoder '''\n",
        "secret_message = \"PyThoN_Is_FuN_AnD_PoWeRfUl!\"\n",
        "# A. What is the character at index 5 of secret_message\n",
        "\n",
        "char_at_index_5 = secret_message[5]\n",
        "print(f\"Character at index 5: {char_at_index_5}\")"
      ],
      "metadata": {
        "colab": {
          "base_uri": "https://localhost:8080/"
        },
        "id": "mHDYWoDO-FnE",
        "outputId": "c903baa9-45a0-47c8-fce6-121f6b31a59a"
      },
      "execution_count": 20,
      "outputs": [
        {
          "output_type": "stream",
          "name": "stdout",
          "text": [
            "Character at index 5: N\n"
          ]
        }
      ]
    },
    {
      "cell_type": "markdown",
      "source": [
        "Used zero-based indexing, so the character at the 5th index is 'N'"
      ],
      "metadata": {
        "id": "NVAHU4mU-gnG"
      }
    },
    {
      "cell_type": "code",
      "source": [
        "# B. Using positive indexing and slicing, extract the substring \"Is_FuN\".\n",
        "substring_is_fun = secret_message[7:13]\n",
        "print(f\"Substring 'Is_FuN':{substring_is_fun}\")"
      ],
      "metadata": {
        "colab": {
          "base_uri": "https://localhost:8080/"
        },
        "id": "YOYqznaP-nam",
        "outputId": "6ac5ead5-1b50-4a99-9f5e-37320a9de4c8"
      },
      "execution_count": 21,
      "outputs": [
        {
          "output_type": "stream",
          "name": "stdout",
          "text": [
            "Substring 'Is_FuN':Is_FuN\n"
          ]
        }
      ]
    },
    {
      "cell_type": "markdown",
      "source": [
        "The slice [7:13] starts at the index 7('I') and goes up to( but not including) index 13(' ')"
      ],
      "metadata": {
        "id": "ELM7d-QV_CTa"
      }
    },
    {
      "cell_type": "code",
      "source": [
        "# C. Using negative indexing and slicing, extract the substring \"PoWeRfUl\n",
        "substring_powerful = secret_message[-9:-1]\n",
        "print(f\"Substring 'PoWeRfUl' :{substring_powerful}]\")"
      ],
      "metadata": {
        "colab": {
          "base_uri": "https://localhost:8080/"
        },
        "id": "jZcBOkVs_XSb",
        "outputId": "9ff8c17c-6ce4-4085-d5cd-28a8620e0000"
      },
      "execution_count": 22,
      "outputs": [
        {
          "output_type": "stream",
          "name": "stdout",
          "text": [
            "Substring 'PoWeRfUl' :PoWeRfUl]\n"
          ]
        }
      ]
    },
    {
      "cell_type": "markdown",
      "source": [
        "Negative indexing will start from the end of the string[-9:] starts the 9th character from the end ['P'] and goes to the end of the string."
      ],
      "metadata": {
        "id": "YCjZUDWh_vFQ"
      }
    },
    {
      "cell_type": "code",
      "source": [
        "# D.Create a new string that consists of every 4th character of secret_message, starting from the first character (index 0). (For example, if the string was \"ABCDEFGHI\", the result would be \"AEI\"). Show the slicing expression you used and the resulting string\n",
        "every_4th_char = secret_message[0::4]\n",
        "print(f\"Every 4th character: {every_4th_char}\")"
      ],
      "metadata": {
        "colab": {
          "base_uri": "https://localhost:8080/"
        },
        "id": "ayOC_OBt__WA",
        "outputId": "c7bfcce5-3de1-4ca6-9670-95e59eba9049"
      },
      "execution_count": 25,
      "outputs": [
        {
          "output_type": "stream",
          "name": "stdout",
          "text": [
            "Every 4th character: PosNDWU\n"
          ]
        }
      ]
    },
    {
      "cell_type": "markdown",
      "source": [
        "The slice [0:4] starts at index 0, goes to the end of the string, and takes every 4th character of the secret_message"
      ],
      "metadata": {
        "id": "MsBlvDTVAevg"
      }
    },
    {
      "cell_type": "code",
      "source": [
        "# E. If you try to access secret_message[50], what happens? Explain this result in your own words, referring to the concept of string length.\n",
        "try:\n",
        "    char_at_50 = secret_message[50]\n",
        "    print(char_at_50)\n",
        "except IndexError as e:\n",
        "    print(f\"Error:{e}\")"
      ],
      "metadata": {
        "colab": {
          "base_uri": "https://localhost:8080/"
        },
        "id": "gFg0y-XcB3U0",
        "outputId": "dd600094-0e48-4a59-d327-e29527fcfc68"
      },
      "execution_count": 26,
      "outputs": [
        {
          "output_type": "stream",
          "name": "stdout",
          "text": [
            "Error:string index out of range\n"
          ]
        }
      ]
    },
    {
      "cell_type": "markdown",
      "source": [
        "An IndexError occurred due to attempting access index 50 in the string secret_message. Python strings are indexed starting from 0, up to the length of the string minus 1. Since secret_message has a length of 25, its valid indices are 0 through 24. Index 50 is outside this valid range."
      ],
      "metadata": {
        "id": "1ZEpf3u8CzhM"
      }
    },
    {
      "cell_type": "code",
      "source": [
        "''' Section 4: Boolean Values & Expressions (15 Marks)\n",
        "Question 4: Predict and Verify\n",
        "Consider the following Python variable assignments:\n",
        "For each boolean expression below:\n",
        "i. Predict whether the expression will evaluate to True or False before running it.\n",
        "ii. Write down the Python expression.\n",
        "iii. State the actual result Python gives.\n",
        "iv. If your prediction was incorrect, briefly explain what you misunderstood.\n",
        "'''\n",
        "x = 15\n",
        "y = 25\n",
        "z = 15\n",
        "text = \"adventure\"\n",
        "\n",
        "# A. (x == z) and (y > x)\n",
        "# I. Prediction :True\n",
        "# II. Expression\n",
        "result_a = (x == z) and (y > x)\n",
        "print(f\"Result a: {result_a}\")\n",
        "# III. Actual result : True\n",
        "#IV. Explanation\n",
        "# * x == z (15 == 15) is True\n",
        "# * y > x (25 > 15) is True\n",
        "# * True and True = True"
      ],
      "metadata": {
        "id": "QTsK_XaiDI_6",
        "colab": {
          "base_uri": "https://localhost:8080/"
        },
        "outputId": "14a53408-68c0-4313-874e-c10172a15963"
      },
      "execution_count": 1,
      "outputs": [
        {
          "output_type": "stream",
          "name": "stdout",
          "text": [
            "Result a: True\n"
          ]
        }
      ]
    },
    {
      "cell_type": "code",
      "source": [
        "#B. (x != z) or (y < x) or (len(text) < 5)\n",
        "#I.  Prediction: False\n",
        "#II. Python Expression:\n",
        "result_b = (x != z) or (y < x) or (len(text) < 5)\n",
        "print(f\"Result b: {result_b}\")\n",
        "\n",
        "# III. Actual Result: False\n",
        "# IV Explanation:\n",
        "#    * x != z (15 != 15) is False\n",
        "#    * y < x (25 < 15) is False\n",
        "#    * len(text) < 5 (len(\"adventure\") < 5 which is 9 < 5) is False\n",
        "#    * False or False or False = False"
      ],
      "metadata": {
        "id": "LvoEAje9Dy8M",
        "colab": {
          "base_uri": "https://localhost:8080/"
        },
        "outputId": "db4ef592-9b95-4aee-e0c1-b1442b27dc60"
      },
      "execution_count": 2,
      "outputs": [
        {
          "output_type": "stream",
          "name": "stdout",
          "text": [
            "Result b: False\n"
          ]
        }
      ]
    },
    {
      "cell_type": "code",
      "source": [
        "#C. not ((x > y) and (text == \"Adventure\")) (5 marks)\n",
        "#I.  Prediction: `True`\n",
        "#II. Python Expression:\n",
        "result_c = not ((x > y) and (text == \"Adventure\"))\n",
        "print(f\"Result c: {result_c}\")\n",
        "\n",
        "#III. Actual Result: True\n",
        "#iv. Explanation:\n",
        "#    * x > y (15 > 25) is False\n",
        "#    * text == \"Adventure\" (\"adventure\" == \"Adventure\") is False (case-sensitive comparison)\n",
        "#    * False and False is False\n",
        "#    * not (False) is True"
      ],
      "metadata": {
        "id": "t4NPksrlD0Gu",
        "colab": {
          "base_uri": "https://localhost:8080/"
        },
        "outputId": "9c9cf925-bb48-4782-91f9-4151e7e2fc46"
      },
      "execution_count": 3,
      "outputs": [
        {
          "output_type": "stream",
          "name": "stdout",
          "text": [
            "Result c: True\n"
          ]
        }
      ]
    },
    {
      "cell_type": "code",
      "source": [
        "'''Section 5: String Properties & Basic Methods\n",
        "Question 5: User Profile Setup\n",
        "A. A user tries to set their username: username = \"MyUser123\". Later, they want to change the first letter to lowercase directly: username[0] = 'm'. What happens when this code is executed? Explain this behavior in the context of a key property of strings in Python.'''\n",
        "username = \"MyUser123\"\n",
        "try:\n",
        "    username[0] = 'm'  # This will cause an error\n",
        "except TypeError as e:\n",
        "    print(f\"Error: {e}\")\n",
        "print(f\"Username: {username}\")"
      ],
      "metadata": {
        "id": "tzfCn9LzD1bP",
        "colab": {
          "base_uri": "https://localhost:8080/"
        },
        "outputId": "dad347c7-6902-4b5e-ded2-7e9410219a3d"
      },
      "execution_count": 27,
      "outputs": [
        {
          "output_type": "stream",
          "name": "stdout",
          "text": [
            "Error: 'str' object does not support item assignment\n",
            "Username: MyUser123\n"
          ]
        }
      ]
    },
    {
      "cell_type": "markdown",
      "source": [
        "Explanation:\n",
        "\n",
        "Python strings are \"immutable,\" meaning you can't change them after you create them. The error TypeError: 'str' object does not support item assignment just means you can't change a specific character in a string using string[index] = new_char. If I want a different string, I have to make a new one."
      ],
      "metadata": {
        "id": "a1uuW8QPPiej"
      }
    },
    {
      "cell_type": "code",
      "source": [
        "'''#B. Another user provides their favorite quote: quote = \" practice makes perfect \". Write Python code to perform the following transformations on this quote (apply them sequentially):\n",
        "#1.  Remove any leading or trailing whitespace.\n",
        "#2.  Convert the entire quote to uppercase.\n",
        "#3.  Replace the word \"PERFECT\" with \"PROGRESS\". '''\n",
        "\n",
        "\n",
        "quote = \" practice makes perfect \"\n",
        "formatted_quote = quote.strip().upper().replace(\"PERFECT\", \"PROGRESS\")\n",
        "print(f\"Formatted quote: {formatted_quote}\")\n"
      ],
      "metadata": {
        "id": "5I7J0G7qPnJM",
        "colab": {
          "base_uri": "https://localhost:8080/"
        },
        "outputId": "a4ab6873-4b9d-4954-81f2-fe31b605a450"
      },
      "execution_count": 30,
      "outputs": [
        {
          "output_type": "stream",
          "name": "stdout",
          "text": [
            "Formatted quote: PRACTICE MAKES PROGRESS\n"
          ]
        }
      ]
    },
    {
      "cell_type": "markdown",
      "source": [
        "Explanation:\n",
        "\n",
        "strip(): It first cleans up the quote by removing any extra spaces at the very beginning and very end.\n",
        "upper(): Then, it changes all the letters in the cleaned-up quote to capital letters.\n",
        "replace(\"PERFECT\", \"PROGRESS\"): Finally, it finds the word \"PERFECT\" (now in all caps) and swaps it out with the word \"PROGRESS\".\n",
        "\n",
        "The methods are chained together, so they are applied in sequence. The final result is stored in the `formatted_quote` variable."
      ],
      "metadata": {
        "id": "AxNomKggPpOS"
      }
    },
    {
      "cell_type": "code",
      "source": [
        "#C. What is the length of the original quote (including spaces) and the length of the formatted_quote? Show how you would find this using Python.\n",
        "\n",
        "original_quote_length = len(quote)\n",
        "formatted_quote_length = len(formatted_quote)\n",
        "\n",
        "print(f\"Length of original quote: {original_quote_length}\")\n",
        "print(f\"Length of formatted quote: {formatted_quote_length}\")\n"
      ],
      "metadata": {
        "id": "IO8X76TCPq1-",
        "colab": {
          "base_uri": "https://localhost:8080/"
        },
        "outputId": "dc487285-4b3b-4865-f6d7-507fd712d4d4"
      },
      "execution_count": 31,
      "outputs": [
        {
          "output_type": "stream",
          "name": "stdout",
          "text": [
            "Length of original quote: 24\n",
            "Length of formatted quote: 23\n"
          ]
        }
      ]
    },
    {
      "cell_type": "markdown",
      "source": [
        "The len() function is just a way to count how many characters are in a string.\n",
        "\n",
        "len(quote) counts all the characters in the original quote, including any extra spaces at the start or end.\n",
        "len(formatted_quote) counts the characters in the new, changed quote you made. Its length is different because the steps before (removing spaces, etc.) changed how many characters are there.\n",
        "\n"
      ],
      "metadata": {
        "id": "h9ZYRUfYPsWW"
      }
    }
  ]
}